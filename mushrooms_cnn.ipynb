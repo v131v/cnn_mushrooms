{
 "cells": [
  {
   "cell_type": "code",
   "execution_count": 72,
   "metadata": {},
   "outputs": [],
   "source": [
    "import os\n",
    "import random\n",
    "import shutil\n",
    "import numpy as np\n",
    "import tensorflow as tf\n",
    "from tensorflow import keras\n",
    "from tensorflow.keras.preprocessing.image import ImageDataGenerator\n",
    "from tensorflow.keras.models import Sequential\n",
    "from tensorflow.keras.layers import Conv2D, MaxPooling2D, Flatten, Dense, Dropout, Input\n",
    "from tensorflow.keras.utils import to_categorical\n",
    "from sklearn.metrics import accuracy_score, confusion_matrix\n",
    "import matplotlib.pyplot as plt\n",
    "import seaborn as sns\n",
    "import kagglehub\n",
    "from PIL import ImageFile\n",
    "\n",
    "ImageFile.LOAD_TRUNCATED_IMAGES = True\n",
    "os.environ[\"CUDA_VISIBLE_DEVICES\"] = \"-1\"\n"
   ]
  },
  {
   "cell_type": "code",
   "execution_count": null,
   "metadata": {},
   "outputs": [
    {
     "name": "stdout",
     "output_type": "stream",
     "text": [
      "Resuming download from 7340032 bytes (1983510598 bytes left)...\n",
      "Resuming download from https://www.kaggle.com/api/v1/datasets/download/maysee/mushrooms-classification-common-genuss-images?dataset_version_number=1 (7340032/1990850630) bytes left.\n"
     ]
    },
    {
     "name": "stderr",
     "output_type": "stream",
     "text": [
      "100%|██████████| 1.85G/1.85G [02:57<00:00, 11.2MB/s]"
     ]
    },
    {
     "name": "stdout",
     "output_type": "stream",
     "text": [
      "Extracting files...\n"
     ]
    },
    {
     "name": "stderr",
     "output_type": "stream",
     "text": [
      "\n"
     ]
    },
    {
     "name": "stdout",
     "output_type": "stream",
     "text": [
      "Path to dataset files: /home/v131v/.cache/kagglehub/datasets/maysee/mushrooms-classification-common-genuss-images/versions/1\n"
     ]
    }
   ],
   "source": [
    "path = kagglehub.dataset_download(\"maysee/mushrooms-classification-common-genuss-images\")\n"
   ]
  },
  {
   "cell_type": "code",
   "execution_count": 10,
   "metadata": {},
   "outputs": [
    {
     "name": "stdout",
     "output_type": "stream",
     "text": [
      "Перемещено 167 файлов из /home/v131v/.cache/kagglehub/datasets/maysee/mushrooms-classification-common-genuss-images/versions/1/Mushrooms/Cortinarius в ./train/Cortinarius.\n",
      "Перемещено 70 файлов из /home/v131v/.cache/kagglehub/datasets/maysee/mushrooms-classification-common-genuss-images/versions/1/Mushrooms/Agaricus в ./train/Agaricus.\n",
      "Перемещено 72 файлов из /home/v131v/.cache/kagglehub/datasets/maysee/mushrooms-classification-common-genuss-images/versions/1/Mushrooms/Entoloma в ./train/Entoloma.\n",
      "Перемещено 150 файлов из /home/v131v/.cache/kagglehub/datasets/maysee/mushrooms-classification-common-genuss-images/versions/1/Mushrooms/Amanita в ./train/Amanita.\n",
      "Перемещено 214 файлов из /home/v131v/.cache/kagglehub/datasets/maysee/mushrooms-classification-common-genuss-images/versions/1/Mushrooms/Boletus в ./train/Boletus.\n",
      "Перемещено 312 файлов из /home/v131v/.cache/kagglehub/datasets/maysee/mushrooms-classification-common-genuss-images/versions/1/Mushrooms/Lactarius в ./train/Lactarius.\n",
      "Перемещено 63 файлов из /home/v131v/.cache/kagglehub/datasets/maysee/mushrooms-classification-common-genuss-images/versions/1/Mushrooms/Hygrocybe в ./train/Hygrocybe.\n",
      "Перемещено 229 файлов из /home/v131v/.cache/kagglehub/datasets/maysee/mushrooms-classification-common-genuss-images/versions/1/Mushrooms/Russula в ./train/Russula.\n",
      "Перемещено 62 файлов из /home/v131v/.cache/kagglehub/datasets/maysee/mushrooms-classification-common-genuss-images/versions/1/Mushrooms/Suillus в ./train/Suillus.\n",
      "Перемещено 669 файлов из /home/v131v/.cache/kagglehub/datasets/maysee/mushrooms-classification-common-genuss-images/versions/1/Mushrooms/Cortinarius в ./test/Cortinarius.\n",
      "Перемещено 283 файлов из /home/v131v/.cache/kagglehub/datasets/maysee/mushrooms-classification-common-genuss-images/versions/1/Mushrooms/Agaricus в ./test/Agaricus.\n",
      "Перемещено 292 файлов из /home/v131v/.cache/kagglehub/datasets/maysee/mushrooms-classification-common-genuss-images/versions/1/Mushrooms/Entoloma в ./test/Entoloma.\n",
      "Перемещено 600 файлов из /home/v131v/.cache/kagglehub/datasets/maysee/mushrooms-classification-common-genuss-images/versions/1/Mushrooms/Amanita в ./test/Amanita.\n",
      "Перемещено 859 файлов из /home/v131v/.cache/kagglehub/datasets/maysee/mushrooms-classification-common-genuss-images/versions/1/Mushrooms/Boletus в ./test/Boletus.\n",
      "Перемещено 1251 файлов из /home/v131v/.cache/kagglehub/datasets/maysee/mushrooms-classification-common-genuss-images/versions/1/Mushrooms/Lactarius в ./test/Lactarius.\n",
      "Перемещено 253 файлов из /home/v131v/.cache/kagglehub/datasets/maysee/mushrooms-classification-common-genuss-images/versions/1/Mushrooms/Hygrocybe в ./test/Hygrocybe.\n",
      "Перемещено 919 файлов из /home/v131v/.cache/kagglehub/datasets/maysee/mushrooms-classification-common-genuss-images/versions/1/Mushrooms/Russula в ./test/Russula.\n",
      "Перемещено 249 файлов из /home/v131v/.cache/kagglehub/datasets/maysee/mushrooms-classification-common-genuss-images/versions/1/Mushrooms/Suillus в ./test/Suillus.\n"
     ]
    }
   ],
   "source": [
    "def move_random_files(source_folder, target_folder, ratio=0.2):\n",
    "    \"\"\"\n",
    "    Перемещает случайные файлы из source_folder в target_folder в заданной пропорции.\n",
    "\n",
    "    :param source_folder: Путь к исходной папке с файлами.\n",
    "    :param target_folder: Путь к целевой папке для перемещения.\n",
    "    :param ratio: Доля файлов для перемещения (от 0 до 1).\n",
    "    \"\"\"\n",
    "    # Создаем папку, если она не существует\n",
    "    os.makedirs(target_folder, exist_ok=True)\n",
    "\n",
    "    # Получаем список всех файлов в исходной папке\n",
    "    files = [f for f in os.listdir(source_folder) if os.path.isfile(os.path.join(source_folder, f))]\n",
    "\n",
    "    # Определяем количество файлов для перемещения\n",
    "    num_files_to_move = int(len(files) * ratio)\n",
    "\n",
    "    # Выбираем случайные файлы\n",
    "    files_to_move = random.sample(files, num_files_to_move)\n",
    "\n",
    "    # Перемещаем файлы\n",
    "    for file_name in files_to_move:\n",
    "        source_path = os.path.join(source_folder, file_name)\n",
    "        target_path = os.path.join(target_folder, file_name)\n",
    "        shutil.move(source_path, target_path)\n",
    "\n",
    "    print(f\"Перемещено {len(files_to_move)} файлов из {source_folder} в {target_folder}.\")\n",
    "\n",
    "source_folder = f\"{path}/Mushrooms\"\n",
    "classes = os.listdir(source_folder)\n",
    "\n",
    "for mushroom in classes:\n",
    "    move_random_files(f\"{source_folder}/{mushroom}\", f\"./train/{mushroom}\")\n",
    "\n",
    "for mushroom in classes:\n",
    "    move_random_files(f\"{source_folder}/{mushroom}\", f\"./test/{mushroom}\", ratio=1)\n"
   ]
  },
  {
   "cell_type": "code",
   "execution_count": 85,
   "metadata": {},
   "outputs": [
    {
     "name": "stdout",
     "output_type": "stream",
     "text": [
      "Found 5375 images belonging to 9 classes.\n",
      "Found 1339 images belonging to 9 classes.\n",
      "Batch shape: (64, 300, 300, 3)\n"
     ]
    }
   ],
   "source": [
    "train_dir = \"train\"\n",
    "test_dir = 'test'\n",
    "\n",
    "image_size = (300, 300)\n",
    "batch_size = 64\n",
    "epochs = 5\n",
    "\n",
    "train_datagen = ImageDataGenerator(\n",
    "    rescale=1./255,\n",
    "    rotation_range=40,\n",
    "    width_shift_range=0.2,\n",
    "    height_shift_range=0.2,\n",
    "    shear_range=0.2,\n",
    "    zoom_range=0.2,\n",
    "    horizontal_flip=True,\n",
    "    fill_mode='nearest'\n",
    ")\n",
    "\n",
    "test_datagen = ImageDataGenerator(rescale=1./255)\n",
    "\n",
    "train_generator = train_datagen.flow_from_directory(\n",
    "    train_dir,\n",
    "    target_size=image_size,\n",
    "    batch_size=batch_size,\n",
    "    class_mode='categorical',\n",
    "\tshuffle=True,\n",
    ")\n",
    "\n",
    "test_generator = test_datagen.flow_from_directory(\n",
    "    test_dir,\n",
    "    target_size=image_size,\n",
    "    batch_size=batch_size,\n",
    "    class_mode='categorical',\n",
    "\tshuffle=True,\n",
    ")\n",
    "\n",
    "images, labels = next(train_generator)\n",
    "print(f\"Batch shape: {images.shape}\")\n"
   ]
  },
  {
   "cell_type": "code",
   "execution_count": null,
   "metadata": {},
   "outputs": [],
   "source": [
    "model = Sequential([\n",
    "    Input(shape=(300, 300, 3)),\n",
    "\n",
    "    Conv2D(64, (10, 10), activation='relu'),\n",
    "    MaxPooling2D((2, 2)),\n",
    "\tDropout(0.25),\n",
    "\n",
    "    Conv2D(64, (5, 5), activation='relu'),\n",
    "    MaxPooling2D((2, 2)),\n",
    "   \tDropout(0.25),\n",
    "\n",
    "    Conv2D(128, (3, 3), activation='relu'),\n",
    "    MaxPooling2D((2, 2)),\n",
    "   \tDropout(0.25),\n",
    "\n",
    "    Conv2D(128, (3, 3), activation='relu'),\n",
    "    MaxPooling2D((2, 2)),\n",
    "   \tDropout(0.25),\n",
    "\n",
    "    Conv2D(128, (3, 3), activation='relu'),\n",
    "    MaxPooling2D((2, 2)),\n",
    "   \tDropout(0.25),\n",
    "\n",
    "    Flatten(),\n",
    "\n",
    "    Dense(128, activation='relu'),\n",
    "\tDropout(0.1),\n",
    "\n",
    "   \tDense(128, activation='relu'),\n",
    "   \tDropout(0.1),\n",
    "\n",
    "    Dense(len(classes), activation='softmax')\n",
    "])\n",
    "\n",
    "model.compile(optimizer='adam',\n",
    "              loss='categorical_crossentropy',\n",
    "              metrics=['accuracy'])\n"
   ]
  },
  {
   "cell_type": "code",
   "execution_count": null,
   "metadata": {},
   "outputs": [
    {
     "name": "stdout",
     "output_type": "stream",
     "text": [
      "Epoch 1/5\n",
      "\u001b[1m83/83\u001b[0m \u001b[32m━━━━━━━━━━━━━━━━━━━━\u001b[0m\u001b[37m\u001b[0m \u001b[1m272s\u001b[0m 3s/step - accuracy: 0.2069 - loss: 2.0996 - val_accuracy: 0.2359 - val_loss: 2.0636\n",
      "Epoch 2/5\n",
      "\u001b[1m 1/83\u001b[0m \u001b[37m━━━━━━━━━━━━━━━━━━━━\u001b[0m \u001b[1m3:47\u001b[0m 3s/step - accuracy: 0.1719 - loss: 2.1654"
     ]
    },
    {
     "name": "stderr",
     "output_type": "stream",
     "text": [
      "/home/v131v/.local/lib/python3.10/site-packages/keras/src/trainers/epoch_iterator.py:107: UserWarning: Your input ran out of data; interrupting training. Make sure that your dataset or generator can generate at least `steps_per_epoch * epochs` batches. You may need to use the `.repeat()` function when building your dataset.\n",
      "  self._interrupted_warning()\n"
     ]
    },
    {
     "name": "stdout",
     "output_type": "stream",
     "text": [
      "\u001b[1m83/83\u001b[0m \u001b[32m━━━━━━━━━━━━━━━━━━━━\u001b[0m\u001b[37m\u001b[0m \u001b[1m23s\u001b[0m 241ms/step - accuracy: 0.1719 - loss: 2.1654 - val_accuracy: 0.2305 - val_loss: 2.0682\n",
      "Epoch 3/5\n",
      "\u001b[1m83/83\u001b[0m \u001b[32m━━━━━━━━━━━━━━━━━━━━\u001b[0m\u001b[37m\u001b[0m \u001b[1m266s\u001b[0m 3s/step - accuracy: 0.2444 - loss: 2.0404 - val_accuracy: 0.2313 - val_loss: 2.0376\n",
      "Epoch 4/5\n",
      "\u001b[1m83/83\u001b[0m \u001b[32m━━━━━━━━━━━━━━━━━━━━\u001b[0m\u001b[37m\u001b[0m \u001b[1m22s\u001b[0m 240ms/step - accuracy: 0.1719 - loss: 2.1392 - val_accuracy: 0.2336 - val_loss: 2.0430\n",
      "Epoch 5/5\n",
      "\u001b[1m83/83\u001b[0m \u001b[32m━━━━━━━━━━━━━━━━━━━━\u001b[0m\u001b[37m\u001b[0m \u001b[1m265s\u001b[0m 3s/step - accuracy: 0.2327 - loss: 2.0508 - val_accuracy: 0.2383 - val_loss: 2.0384\n"
     ]
    }
   ],
   "source": [
    "history = model.fit(\n",
    "    train_generator,\n",
    "    steps_per_epoch=train_generator.samples // batch_size,\n",
    "    epochs=epochs,\n",
    "    validation_data=test_generator,\n",
    "    validation_steps=test_generator.samples // batch_size,\n",
    ")\n"
   ]
  },
  {
   "cell_type": "code",
   "execution_count": 87,
   "metadata": {},
   "outputs": [
    {
     "data": {
      "image/png": "[encoded data removed]",
      "text/plain": [
       "<Figure size 640x480 with 1 Axes>"
      ]
     },
     "metadata": {},
     "output_type": "display_data"
    }
   ],
   "source": [
    "plt.plot(history.history['accuracy'], label='accuracy')\n",
    "plt.xlabel('Epoch')\n",
    "plt.ylabel('Accuracy')\n",
    "plt.ylim([0, 1])\n",
    "plt.xlim([0, epochs-1])\n",
    "plt.legend(loc='lower right')\n",
    "plt.show()\n"
   ]
  },
  {
   "cell_type": "code",
   "execution_count": 83,
   "metadata": {},
   "outputs": [
    {
     "name": "stdout",
     "output_type": "stream",
     "text": [
      "\u001b[1m21/21\u001b[0m \u001b[32m━━━━━━━━━━━━━━━━━━━━\u001b[0m\u001b[37m\u001b[0m \u001b[1m17s\u001b[0m 798ms/step - accuracy: 0.2308 - loss: 2.0384\n",
      "Test Loss: 2.0390267372131348, Test Accuracy: 0.2330097109079361\n"
     ]
    }
   ],
   "source": [
    "loss, accuracy = model.evaluate(test_generator)\n",
    "print(f'Test Loss: {loss}, Test Accuracy: {accuracy}')\n"
   ]
  },
  {
   "cell_type": "code",
   "execution_count": null,
   "metadata": {},
   "outputs": [],
   "source": [
    "model.save('lego_classifier_model.h5')\n"
   ]
  }
 ],
 "metadata": {
  "kernelspec": {
   "display_name": "Python 3",
   "language": "python",
   "name": "python3"
  },
  "language_info": {
   "codemirror_mode": {
    "name": "ipython",
    "version": 3
   },
   "file_extension": ".py",
   "mimetype": "text/x-python",
   "name": "python",
   "nbconvert_exporter": "python",
   "pygments_lexer": "ipython3",
   "version": "3.10.12"
  }
 },
 "nbformat": 4,
 "nbformat_minor": 2
}
